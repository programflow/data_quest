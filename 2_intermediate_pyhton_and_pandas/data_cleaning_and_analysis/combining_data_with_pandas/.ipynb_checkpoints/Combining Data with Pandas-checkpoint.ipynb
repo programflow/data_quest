{
 "cells": [
  {
   "cell_type": "markdown",
   "metadata": {},
   "source": [
    "# Combining Data with Pandas"
   ]
  },
  {
   "cell_type": "markdown",
   "metadata": {},
   "source": [
    "Module 2/6 in data cleaning and analysis course"
   ]
  },
  {
   "cell_type": "markdown",
   "metadata": {},
   "source": [
    "## 1. Introduction"
   ]
  },
  {
   "cell_type": "markdown",
   "metadata": {},
   "source": [
    "In the last module we worked with just one data set, the 2015 World Happiness Report, to explore data aggregation. It very common to work with multiple sets of data. This is because you might need to pull from multiple sources in order to perform the analysis. So we are going to learn some techniques for combining data using pandas to easily handle situations like these.\n",
    "\n",
    "We'll use what we previously used but 2015, 2016, and 2017 of the World happiness Report. We want answer the following question.\n",
    "\n",
    "Did world happiness increase, decrease, or stay about the same from 2015 to 2017?\n",
    "\n",
    "Below are descriptions for some of the columns:\n",
    "\n",
    "- Country - Name of the country\n",
    "- Region - Name of the region the country belongs to\n",
    "- Happiness Rank - The rank of the country, as determined by its happiness score\n",
    "- Happiness Score - A score assigned to each country based on the answers to a poll question that asks respondents to rate their happiness on a scale of 0-10\n"
   ]
  },
  {
   "cell_type": "code",
   "execution_count": 3,
   "metadata": {},
   "outputs": [],
   "source": [
    "#We're gonna read in the files and import the import libraries\n",
    "import numpy as np\n",
    "import pandas as pd\n",
    "import matplotlib.pyplot as plt\n",
    "happiness2015 = pd.read_csv('World_Happiness_2015.csv')\n",
    "happiness2016 = pd.read_csv('World_Happiness_2016.csv')\n",
    "happiness2017 = pd.read_csv('World_Happiness_2017.csv')"
   ]
  },
  {
   "cell_type": "code",
   "execution_count": 4,
   "metadata": {},
   "outputs": [],
   "source": [
    "# we want to make sure we can distinguish the different rows in the\n",
    "# data sets so we'll add column for the year.\n",
    "happiness2015['Year'] = 2015\n",
    "happiness2016['Year'] = 2016\n",
    "happiness2017['Year'] = 2017"
   ]
  },
  {
   "cell_type": "markdown",
   "metadata": {},
   "source": [
    "## 2. Combining Dataframes with the Concat Function"
   ]
  },
  {
   "attachments": {
    "image.png": {
     "image/png": "[encoded data removed]"
    }
   },
   "cell_type": "markdown",
   "metadata": {},
   "source": [
    "We're gonna start by exploring the pd.concat() function. The concat() function combines dataframes one of two ways:\n",
    "1. Stacked: Axis = 0 (default)\n",
    "![image.png](attachment:image.png)\n",
    "2. Side by Side: Axis = 1\n",
    "![image.png](attachment:image.png)\n",
    "\n",
    "Since concat is a function, we use the follow syntax:\n",
    "'pd.concat([df1,df2])'\n",
    "\n",
    "We now want to use the concat() function to combine subsets of happiness2015 and happiness2016 and then debrief the results."
   ]
  },
  {
   "cell_type": "code",
   "execution_count": 5,
   "metadata": {},
   "outputs": [],
   "source": [
    "# We are going to work with the following subsets:\n",
    "head_2015 = happiness2015[['Country', 'Happiness Score', 'Year']].head(3)\n",
    "head_2016 = happiness2016[['Country', 'Happiness Score', 'Year']].head(3)"
   ]
  },
  {
   "cell_type": "code",
   "execution_count": 6,
   "metadata": {},
   "outputs": [],
   "source": [
    "# We're going to combine them\n",
    "concat_axis0 = pd.concat([head_2015, head_2016], axis=0)\n",
    "concat_axis1 = pd.concat([head_2015, head_2016], axis =1)\n"
   ]
  },
  {
   "cell_type": "code",
   "execution_count": 7,
   "metadata": {},
   "outputs": [],
   "source": [
    "# when we look at these results we see that the datasets are \"glued\"\n",
    "# together either vertically or horizontally"
   ]
  },
  {
   "cell_type": "markdown",
   "metadata": {},
   "source": [
    "## 3. Combining Dataframes wtih the Concat Function (Continued)"
   ]
  },
  {
   "cell_type": "markdown",
   "metadata": {},
   "source": [
    "Sometimes our dataframes will have different shapes or columns. We are going to explore how concat() combines them."
   ]
  },
  {
   "cell_type": "code",
   "execution_count": 8,
   "metadata": {},
   "outputs": [],
   "source": [
    "# We want the following subsets:\n",
    "head_2015 = happiness2015[['Year','Country','Happiness Score', 'Standard Error']].head(4)\n",
    "head_2016 = happiness2016[['Country','Happiness Score', 'Year']].head(3)"
   ]
  },
  {
   "cell_type": "code",
   "execution_count": 10,
   "metadata": {},
   "outputs": [
    {
     "name": "stdout",
     "output_type": "stream",
     "text": [
      "       Country  Happiness Score  Standard Error  Year\n",
      "0  Switzerland            7.587         0.03411  2015\n",
      "1      Iceland            7.561         0.04884  2015\n",
      "2      Denmark            7.527         0.03328  2015\n",
      "3       Norway            7.522         0.03880  2015\n",
      "0      Denmark            7.526             NaN  2016\n",
      "1  Switzerland            7.509             NaN  2016\n",
      "2      Iceland            7.501             NaN  2016\n"
     ]
    },
    {
     "name": "stderr",
     "output_type": "stream",
     "text": [
      "/home/lumenetix/anaconda3/lib/python3.7/site-packages/ipykernel_launcher.py:2: FutureWarning: Sorting because non-concatenation axis is not aligned. A future version\n",
      "of pandas will change to not sort by default.\n",
      "\n",
      "To accept the future behavior, pass 'sort=False'.\n",
      "\n",
      "To retain the current behavior and silence the warning, pass 'sort=True'.\n",
      "\n",
      "  \n"
     ]
    }
   ],
   "source": [
    "# We use concat()\n",
    "concat_axis0 = pd.concat([head_2015, head_2016], axis=0)\n",
    "print(concat_axis0)"
   ]
  },
  {
   "cell_type": "code",
   "execution_count": 11,
   "metadata": {},
   "outputs": [],
   "source": [
    "rows = 7\n",
    "columns = 4"
   ]
  },
  {
   "cell_type": "markdown",
   "metadata": {},
   "source": [
    "## 4. Combining Dataframes with Different Shapes Using the Concat Function"
   ]
  },
  {
   "cell_type": "markdown",
   "metadata": {},
   "source": [
    "The concat() function combines the corresponding coumns and any missing values are filled in with NaN. The indexes were something that didn't change but concat() has a parameter ignore_index."
   ]
  },
  {
   "cell_type": "code",
   "execution_count": 12,
   "metadata": {},
   "outputs": [],
   "source": [
    "# we are going to update the index this time by combining the same subsets\n",
    "head_2015 = happiness2015[['Year','Country','Happiness Score', 'Standard Error']].head(4)\n",
    "head_2016 = happiness2016[['Country','Happiness Score', 'Year']].head(3)"
   ]
  },
  {
   "cell_type": "code",
   "execution_count": 19,
   "metadata": {},
   "outputs": [
    {
     "name": "stdout",
     "output_type": "stream",
     "text": [
      "       Country  Happiness Score  Standard Error  Year\n",
      "0  Switzerland            7.587         0.03411  2015\n",
      "1      Iceland            7.561         0.04884  2015\n",
      "2      Denmark            7.527         0.03328  2015\n",
      "3       Norway            7.522         0.03880  2015\n",
      "4      Denmark            7.526             NaN  2016\n",
      "5  Switzerland            7.509             NaN  2016\n",
      "6      Iceland            7.501             NaN  2016\n"
     ]
    },
    {
     "name": "stderr",
     "output_type": "stream",
     "text": [
      "/home/lumenetix/anaconda3/lib/python3.7/site-packages/ipykernel_launcher.py:1: FutureWarning: Sorting because non-concatenation axis is not aligned. A future version\n",
      "of pandas will change to not sort by default.\n",
      "\n",
      "To accept the future behavior, pass 'sort=False'.\n",
      "\n",
      "To retain the current behavior and silence the warning, pass 'sort=True'.\n",
      "\n",
      "  \"\"\"Entry point for launching an IPython kernel.\n"
     ]
    }
   ],
   "source": [
    "concat_update_index = pd.concat([head_2015, head_2016], axis=0, ignore_index=True)\n",
    "print(concat_axis0)\n"
   ]
  },
  {
   "cell_type": "markdown",
   "metadata": {},
   "source": [
    "## 5. Joining Dataframes with the Merge Function"
   ]
  },
  {
   "attachments": {
    "image.png": {
     "image/png": "[encoded data removed]"
    }
   },
   "cell_type": "markdown",
   "metadata": {},
   "source": [
    "Now we want to explore the pd.merge() function. it only combines 2 dataframes at a time and only horizontally. It can be quicker and more flexible at times.\n",
    "\n",
    "With the merge() function, we'll combine dataframes on a key, a shared index or column. When choosing a key, it's good practice to use keys with unique values to avoid duplicating data.\n",
    "\n",
    "You can think of keys as creating a link from one dataframe to another using the common values or indexes. For example, in the diagram below, we linked the dataframes using common values in the Country columns.\n",
    "\n",
    "![image.png](attachment:image.png)\n",
    "\n",
    "We use the common counrty values to join or merge the dataframes.\n",
    "\n",
    "![image.png](attachment:image.png)"
   ]
  },
  {
   "cell_type": "code",
   "execution_count": 17,
   "metadata": {},
   "outputs": [],
   "source": [
    "# We're going to work with 3 rows from 2015 and 2016\n",
    "three_2015 = happiness2015[['Country','Happiness Rank','Year']].iloc[2:5]\n",
    "three_2016 = happiness2016[['Country','Happiness Rank','Year']].iloc[2:5]"
   ]
  },
  {
   "cell_type": "code",
   "execution_count": 18,
   "metadata": {},
   "outputs": [
    {
     "name": "stdout",
     "output_type": "stream",
     "text": [
      "  Country  Happiness Rank_x  Year_x  Happiness Rank_y  Year_y\n",
      "0  Norway                 4    2015                 4    2016\n"
     ]
    }
   ],
   "source": [
    "# syntax pd.merge(left=df1, right=df2, on='Col_Name')\n",
    "merged = pd.merge(three_2015, three_2016, on='Country')\n",
    "print(merged)"
   ]
  },
  {
   "cell_type": "markdown",
   "metadata": {},
   "source": [
    "## 6. Joining on Columns with the Merge Function"
   ]
  },
  {
   "cell_type": "markdown",
   "metadata": {},
   "source": [
    "It resulted in only one row. This happened because it look to match values in the country column. Since Norway was the only value that was in both it only resulted in 1 row.\n",
    "\n",
    "The one country returned in merged was \"Norway\", the only element that appeared in the Country column in BOTH three_2015 and three_2016.\n",
    "\n",
    "This way of combining, or joining, data is called an inner join. An inner join returns only the intersection of the keys, or the elements that appear in both dataframes with a common key.\n",
    "\n",
    "The term \"join\" originates from SQL (or structured query language), a language used to work with databases. If you're a SQL user, you'll recognize the following concepts. If you've never used SQL, don't worry! No prior knowledge is neccessary for this mission, but we will learn SQL later in this path.\n",
    "\n",
    "There are actually four different types of joins:\n",
    "\n",
    "1. Inner: only includes elements that appear in both dataframes with a common key\n",
    "2. Outer: includes all data from both dataframes\n",
    "3. Left: includes all of the rows from the \"left\" dataframe along with  any rows from the \"right\" dataframe with a common key; the result retains all columns from both of the original dataframes\n",
    "4. Right: includes all of the rows from the \"right\" dataframe along with any rows from the \"left\" dataframe with a common key; the result retains all columns from both of the original dataframes\n",
    "\n",
    "If the definition for outer joins sounds familiar, it's because we've already seen examples of outer joins! Recall that when we combined data using the concat function, it kept all of the data from all dataframes, no matter if missing values were created.\n",
    "\n",
    "Since it's much more common to use inner and left joins for database-style joins, we'll focus on these join types for the remainder of the mission, but encourage you to explore the other options on your own.\n",
    "\n"
   ]
  },
  {
   "cell_type": "code",
   "execution_count": 22,
   "metadata": {},
   "outputs": [
    {
     "name": "stdout",
     "output_type": "stream",
     "text": [
      "   Country  Happiness Rank_x  Year_x  Happiness Rank_y  Year_y\n",
      "0  Denmark                 3    2015               NaN     NaN\n",
      "1   Norway                 4    2015               4.0  2016.0\n",
      "2   Canada                 5    2015               NaN     NaN\n",
      "   Country  Happiness Rank_x  Year_x  Happiness Rank_y  Year_y\n",
      "0  Iceland                 3    2016               NaN     NaN\n",
      "1   Norway                 4    2016               4.0  2015.0\n",
      "2  Finland                 5    2016               NaN     NaN\n"
     ]
    }
   ],
   "source": [
    "# We're going to experiment with join types\n",
    "merged_left = pd.merge(three_2015, three_2016, on='Country', how='left')\n",
    "merged_left_updated = pd.merge( three_2016, three_2015, on='Country', how='left')\n",
    "print(merged_left)\n",
    "print(merged_left_updated)"
   ]
  },
  {
   "cell_type": "code",
   "execution_count": 23,
   "metadata": {},
   "outputs": [],
   "source": [
    "# changed which df is left or right changes the result\n",
    "# it essentially makes it equal to doing right join"
   ]
  },
  {
   "cell_type": "markdown",
   "metadata": {},
   "source": [
    "## 7. Left joins with the Merge Function"
   ]
  },
  {
   "cell_type": "markdown",
   "metadata": {},
   "source": [
    "In summary, we'd use a left join when we don't want to drop any data from the left dataframe.\n",
    "\n",
    "Note that a right join works the same as a left join, except it includes all of the rows from the \"right\" dataframe. Since it's far more common in practice to use a left join, we won't cover right joins in detail.\n",
    "\n",
    "You may have also noticed above that the merge function added a suffix of either _x or _y to columns of the same name to distinguish between them.\n",
    "\n"
   ]
  },
  {
   "cell_type": "code",
   "execution_count": 25,
   "metadata": {},
   "outputs": [],
   "source": [
    "# We are going to update our suffixes to make our results eaiser to read\n",
    "three_2015 = happiness2015[['Country','Happiness Rank','Year']].iloc[2:5]\n",
    "three_2016 = happiness2016[['Country','Happiness Rank','Year']].iloc[2:5]\n",
    "merged = pd.merge(left=three_2015, right=three_2016, how='left', on='Country')\n",
    "merged_updated = pd.merge(left=three_2016, right=three_2015, how = 'left', on='Country')\n",
    "merged_suffixes = pd.merge(left=three_2015, right=three_2016, \n",
    "                           suffixes=('_2015', '_2016'), \n",
    "                           how ='left', on= 'Country' )\n",
    "merged_updated_suffixes = pd.merge(left=three_2016, right=three_2015, \n",
    "                           suffixes=('_2016', '_2015'), \n",
    "                           how ='left', on= 'Country' )\n",
    "\n"
   ]
  },
  {
   "cell_type": "markdown",
   "metadata": {},
   "source": [
    "## 8. Join on Index with the Merge function"
   ]
  },
  {
   "cell_type": "code",
   "execution_count": 26,
   "metadata": {},
   "outputs": [],
   "source": [
    "#We can also join dataframes on the index\n",
    "import pandas as pd\n",
    "four_2015 = happiness2015[['Country','Happiness Rank','Year']].iloc[2:6]\n",
    "three_2016 = happiness2016[['Country','Happiness Rank','Year']].iloc[2:5]\n",
    "# To join on the index, we'll set the left_index and \n",
    "# right_index parameters to True\n",
    "merge_index = pd.merge(left = four_2015,right = three_2016, \n",
    "                       left_index = True, right_index = True, \n",
    "                       suffixes = ('_2015','_2016'))"
   ]
  },
  {
   "cell_type": "code",
   "execution_count": 27,
   "metadata": {},
   "outputs": [
    {
     "name": "stdout",
     "output_type": "stream",
     "text": [
      "  Country_2015  Happiness Rank_2015  Year_2015 Country_2016  \\\n",
      "2      Denmark                    3       2015      Iceland   \n",
      "3       Norway                    4       2015       Norway   \n",
      "4       Canada                    5       2015      Finland   \n",
      "5      Finland                    6       2015          NaN   \n",
      "\n",
      "   Happiness Rank_2016  Year_2016  \n",
      "2                  3.0     2016.0  \n",
      "3                  4.0     2016.0  \n",
      "4                  5.0     2016.0  \n",
      "5                  NaN        NaN  \n"
     ]
    }
   ],
   "source": [
    "# we're going to try to use a left join instead\n",
    "merge_index_left = pd.merge(left = four_2015,right = three_2016, \n",
    "                       left_index = True, right_index = True, \n",
    "                       suffixes = ('_2015','_2016'), how = 'left')\n",
    "print(merge_index_left)"
   ]
  },
  {
   "cell_type": "markdown",
   "metadata": {},
   "source": [
    "## 9. Challenge: Combine Data and Create a visualization"
   ]
  },
  {
   "cell_type": "markdown",
   "metadata": {},
   "source": [
    "Let's summarize what we learned in this mission:\n",
    "\n",
    "pd.concat()\tpd.merge()\n",
    "Default Join Type\tOuter\tInner\n",
    "Can Combine More Than Two Dataframes at a Time?\tYes\tNo\n",
    "Can Combine Dataframes Vertically\n",
    "(axis=0) or Horizontally (axis=1)?\n",
    "Both\tHorizontally\n",
    "Syntax\tConcat (Vertically)\n",
    "concat([df1,df2,df3])\n",
    "\n",
    "Concat (Horizontally)\n",
    "concat([df1,df2,df3], axis = 1)\n",
    "\n",
    "\n",
    "\n",
    "Merge (Join on Columns)\n",
    "merge(left = df1, right = df2, how = 'join_type', on = 'Col')\n",
    "\n",
    "Merge (Join on Index)\n",
    "merge(left = df1, right = df2, how = 'join_type', left_index = True, right_index = True)\n",
    "\n",
    "\n",
    "\n",
    "You may still be wondering about when to use each of the functions and methods we've learned. This table can help you understand the limitations of each, but that decision will mostly depend on the problem you're trying to solve."
   ]
  },
  {
   "cell_type": "markdown",
   "metadata": {},
   "source": [
    "Let's review our original question next:\n",
    "\n",
    "Did world happiness increase, decrease, or stay about the same from 2015 to 2017?\n",
    "\n",
    "To answer this question, we'll create a bar plot in which each bar represented the mean happiness score for one of the years. We completed a similar task in the last mission when we calculated the mean happiness score for each region using the df.pivot_table() method:"
   ]
  },
  {
   "cell_type": "code",
   "execution_count": 28,
   "metadata": {},
   "outputs": [],
   "source": [
    "#Use a pivot table to aggregate the data according to Region.\n",
    "means = happiness2015.pivot_table('Happiness Score', 'Region', aggfunc=np.mean)"
   ]
  },
  {
   "cell_type": "code",
   "execution_count": 29,
   "metadata": {},
   "outputs": [
    {
     "data": {
      "text/plain": [
       "<matplotlib.axes._subplots.AxesSubplot at 0x7fd0244dacf8>"
      ]
     },
     "execution_count": 29,
     "metadata": {},
     "output_type": "execute_result"
    },
    {
     "data": {
      "image/png": "[encoded data removed]",
      "text/plain": [
       "<Figure size 432x288 with 1 Axes>"
      ]
     },
     "metadata": {
      "needs_background": "light"
     },
     "output_type": "display_data"
    }
   ],
   "source": [
    "#Then, we plotted the results with the df.plot() method.\n",
    "\n",
    "#Use the `df.plot()` method to plot the results.\n",
    "means.plot(kind='barh', title='Mean Happiness Scores by Region', xlim=(0,10))\n"
   ]
  },
  {
   "cell_type": "code",
   "execution_count": 30,
   "metadata": {},
   "outputs": [],
   "source": [
    "# Let's repeat the same steps, but this time, we'll group the data \n",
    "# by the Year column. First, let's rename the Happiness.Score \n",
    "# column so it matches the column name in happiness2015 \n",
    "# and happiness2016:\n",
    "\n",
    "happiness2017.rename(columns={'Happiness.Score': 'Happiness Score'}, \n",
    "                     inplace=True)\n"
   ]
  },
  {
   "cell_type": "code",
   "execution_count": 38,
   "metadata": {},
   "outputs": [
    {
     "name": "stdout",
     "output_type": "stream",
     "text": [
      "                      Country  Dystopia Residual  Dystopia.Residual  \\\n",
      "0                 Switzerland            2.51738                NaN   \n",
      "1                     Iceland            2.70201                NaN   \n",
      "2                     Denmark            2.49204                NaN   \n",
      "3                      Norway            2.46531                NaN   \n",
      "4                      Canada            2.45176                NaN   \n",
      "5                     Finland            2.61955                NaN   \n",
      "6                 Netherlands            2.46570                NaN   \n",
      "7                      Sweden            2.37119                NaN   \n",
      "8                 New Zealand            2.26425                NaN   \n",
      "9                   Australia            2.26646                NaN   \n",
      "10                     Israel            3.08854                NaN   \n",
      "11                 Costa Rica            3.17728                NaN   \n",
      "12                    Austria            2.53320                NaN   \n",
      "13                     Mexico            3.60214                NaN   \n",
      "14              United States            2.51011                NaN   \n",
      "15                     Brazil            3.26001                NaN   \n",
      "16                 Luxembourg            1.96961                NaN   \n",
      "17                    Ireland            1.97570                NaN   \n",
      "18                    Belgium            2.41484                NaN   \n",
      "19       United Arab Emirates            2.24743                NaN   \n",
      "20             United Kingdom            1.96994                NaN   \n",
      "21                       Oman            2.47489                NaN   \n",
      "22                  Venezuela            3.19131                NaN   \n",
      "23                  Singapore            1.88501                NaN   \n",
      "24                     Panama            2.84848                NaN   \n",
      "25                    Germany            2.11569                NaN   \n",
      "26                      Chile            2.67585                NaN   \n",
      "27                      Qatar            1.55674                NaN   \n",
      "28                     France            2.21126                NaN   \n",
      "29                  Argentina            2.83600                NaN   \n",
      "..                        ...                ...                ...   \n",
      "125          Congo (Kinshasa)                NaN           2.224959   \n",
      "126                      Mali                NaN           1.668191   \n",
      "127               Ivory Coast                NaN           1.844964   \n",
      "128                  Cambodia                NaN           1.042941   \n",
      "129                     Sudan                NaN           1.687066   \n",
      "130                     Ghana                NaN           1.577868   \n",
      "131                   Ukraine                NaN           0.814382   \n",
      "132                    Uganda                NaN           1.526363   \n",
      "133              Burkina Faso                NaN           1.727213   \n",
      "134                     Niger                NaN           1.873983   \n",
      "135                    Malawi                NaN           2.081786   \n",
      "136                      Chad                NaN           2.071238   \n",
      "137                  Zimbabwe                NaN           1.597970   \n",
      "138                   Lesotho                NaN           1.429835   \n",
      "139                    Angola                NaN           1.614482   \n",
      "140               Afghanistan                NaN           2.150801   \n",
      "141                  Botswana                NaN           0.377914   \n",
      "142                     Benin                NaN           1.885631   \n",
      "143                Madagascar                NaN           1.584613   \n",
      "144                     Haiti                NaN           1.697168   \n",
      "145                     Yemen                NaN           1.345601   \n",
      "146               South Sudan                NaN           1.879567   \n",
      "147                   Liberia                NaN           1.673286   \n",
      "148                    Guinea                NaN           1.552312   \n",
      "149                      Togo                NaN           1.837229   \n",
      "150                    Rwanda                NaN           0.540061   \n",
      "151                     Syria                NaN           1.061574   \n",
      "152                  Tanzania                NaN           0.621130   \n",
      "153                   Burundi                NaN           1.683024   \n",
      "154  Central African Republic                NaN           2.066005   \n",
      "\n",
      "     Economy (GDP per Capita)  Economy..GDP.per.Capita.    Family   Freedom  \\\n",
      "0                     1.39651                       NaN  1.349510  0.665570   \n",
      "1                     1.30232                       NaN  1.402230  0.628770   \n",
      "2                     1.32548                       NaN  1.360580  0.649380   \n",
      "3                     1.45900                       NaN  1.330950  0.669730   \n",
      "4                     1.32629                       NaN  1.322610  0.632970   \n",
      "5                     1.29025                       NaN  1.318260  0.641690   \n",
      "6                     1.32944                       NaN  1.280170  0.615760   \n",
      "7                     1.33171                       NaN  1.289070  0.659800   \n",
      "8                     1.25018                       NaN  1.319670  0.639380   \n",
      "9                     1.33358                       NaN  1.309230  0.651240   \n",
      "10                    1.22857                       NaN  1.223930  0.413190   \n",
      "11                    0.95578                       NaN  1.237880  0.633760   \n",
      "12                    1.33723                       NaN  1.297040  0.624330   \n",
      "13                    1.02054                       NaN  0.914510  0.481810   \n",
      "14                    1.39451                       NaN  1.247110  0.546040   \n",
      "15                    0.98124                       NaN  1.232870  0.490490   \n",
      "16                    1.56391                       NaN  1.219630  0.615830   \n",
      "17                    1.33596                       NaN  1.369480  0.617770   \n",
      "18                    1.30782                       NaN  1.285660  0.584500   \n",
      "19                    1.42727                       NaN  1.125750  0.641570   \n",
      "20                    1.26637                       NaN  1.285480  0.596250   \n",
      "21                    1.36011                       NaN  1.081820  0.632740   \n",
      "22                    1.04424                       NaN  1.255960  0.429080   \n",
      "23                    1.52186                       NaN  1.020000  0.542520   \n",
      "24                    1.06353                       NaN  1.198500  0.542100   \n",
      "25                    1.32792                       NaN  1.299370  0.614770   \n",
      "26                    1.10715                       NaN  1.124470  0.441320   \n",
      "27                    1.69042                       NaN  1.078600  0.640400   \n",
      "28                    1.27778                       NaN  1.260380  0.550110   \n",
      "29                    1.05351                       NaN  1.248230  0.449740   \n",
      "..                        ...                       ...       ...       ...   \n",
      "125                       NaN                  0.092102  1.229023  0.235961   \n",
      "126                       NaN                  0.476180  1.281473  0.306614   \n",
      "127                       NaN                  0.603049  0.904780  0.447706   \n",
      "128                       NaN                  0.601765  1.006238  0.633376   \n",
      "129                       NaN                  0.659517  1.214009  0.014996   \n",
      "130                       NaN                  0.667225  0.873665  0.423026   \n",
      "131                       NaN                  0.894652  1.394538  0.122975   \n",
      "132                       NaN                  0.381431  1.129828  0.443186   \n",
      "133                       NaN                  0.350228  1.043280  0.324368   \n",
      "134                       NaN                  0.161925  0.993025  0.363659   \n",
      "135                       NaN                  0.233442  0.512569  0.466915   \n",
      "136                       NaN                  0.438013  0.953856  0.162342   \n",
      "137                       NaN                  0.375847  1.083096  0.336384   \n",
      "138                       NaN                  0.521021  1.190095  0.390661   \n",
      "139                       NaN                  0.858428  1.104412  0.000000   \n",
      "140                       NaN                  0.401477  0.581543  0.106180   \n",
      "141                       NaN                  1.122094  1.221555  0.505196   \n",
      "142                       NaN                  0.431085  0.435300  0.425963   \n",
      "143                       NaN                  0.305809  0.913020  0.189197   \n",
      "144                       NaN                  0.368610  0.640450  0.030370   \n",
      "145                       NaN                  0.591683  0.935382  0.249464   \n",
      "146                       NaN                  0.397249  0.601323  0.147062   \n",
      "147                       NaN                  0.119042  0.872118  0.332881   \n",
      "148                       NaN                  0.244550  0.791245  0.348588   \n",
      "149                       NaN                  0.305445  0.431883  0.380426   \n",
      "150                       NaN                  0.368746  0.945707  0.581844   \n",
      "151                       NaN                  0.777153  0.396103  0.081539   \n",
      "152                       NaN                  0.511136  1.041990  0.390018   \n",
      "153                       NaN                  0.091623  0.629794  0.059901   \n",
      "154                       NaN                  0.000000  0.000000  0.270842   \n",
      "\n",
      "     Generosity  Happiness Rank  Happiness Score  ...  \\\n",
      "0      0.296780             1.0            7.587  ...   \n",
      "1      0.436300             2.0            7.561  ...   \n",
      "2      0.341390             3.0            7.527  ...   \n",
      "3      0.346990             4.0            7.522  ...   \n",
      "4      0.458110             5.0            7.427  ...   \n",
      "5      0.233510             6.0            7.406  ...   \n",
      "6      0.476100             7.0            7.378  ...   \n",
      "7      0.362620             8.0            7.364  ...   \n",
      "8      0.475010             9.0            7.286  ...   \n",
      "9      0.435620            10.0            7.284  ...   \n",
      "10     0.331720            11.0            7.278  ...   \n",
      "11     0.254970            12.0            7.226  ...   \n",
      "12     0.330880            13.0            7.200  ...   \n",
      "13     0.140740            14.0            7.187  ...   \n",
      "14     0.401050            15.0            7.119  ...   \n",
      "15     0.145740            16.0            6.983  ...   \n",
      "16     0.280340            17.0            6.946  ...   \n",
      "17     0.459010            18.0            6.940  ...   \n",
      "18     0.222500            19.0            6.937  ...   \n",
      "19     0.264280            20.0            6.901  ...   \n",
      "20     0.519120            21.0            6.867  ...   \n",
      "21     0.215420            22.0            6.853  ...   \n",
      "22     0.058410            23.0            6.810  ...   \n",
      "23     0.311050            24.0            6.798  ...   \n",
      "24     0.244340            25.0            6.786  ...   \n",
      "25     0.282140            26.0            6.750  ...   \n",
      "26     0.333630            27.0            6.670  ...   \n",
      "27     0.325730            28.0            6.611  ...   \n",
      "28     0.123320            29.0            6.575  ...   \n",
      "29     0.114510            30.0            6.574  ...   \n",
      "..          ...             ...              ...  ...   \n",
      "125    0.246456             NaN            4.280  ...   \n",
      "126    0.183354             NaN            4.190  ...   \n",
      "127    0.201237             NaN            4.180  ...   \n",
      "128    0.385923             NaN            4.168  ...   \n",
      "129    0.182317             NaN            4.139  ...   \n",
      "130    0.256924             NaN            4.120  ...   \n",
      "131    0.270061             NaN            4.096  ...   \n",
      "132    0.325766             NaN            4.081  ...   \n",
      "133    0.250865             NaN            4.032  ...   \n",
      "134    0.228674             NaN            4.028  ...   \n",
      "135    0.287170             NaN            3.970  ...   \n",
      "136    0.216114             NaN            3.936  ...   \n",
      "137    0.189143             NaN            3.875  ...   \n",
      "138    0.157497             NaN            3.808  ...   \n",
      "139    0.097926             NaN            3.795  ...   \n",
      "140    0.311871             NaN            3.794  ...   \n",
      "141    0.099348             NaN            3.766  ...   \n",
      "142    0.207948             NaN            3.657  ...   \n",
      "143    0.208733             NaN            3.644  ...   \n",
      "144    0.489204             NaN            3.603  ...   \n",
      "145    0.104125             NaN            3.593  ...   \n",
      "146    0.285671             NaN            3.591  ...   \n",
      "147    0.266550             NaN            3.533  ...   \n",
      "148    0.264815             NaN            3.507  ...   \n",
      "149    0.196896             NaN            3.495  ...   \n",
      "150    0.252756             NaN            3.471  ...   \n",
      "151    0.493664             NaN            3.462  ...   \n",
      "152    0.354256             NaN            3.349  ...   \n",
      "153    0.204435             NaN            2.905  ...   \n",
      "154    0.280876             NaN            2.693  ...   \n",
      "\n",
      "     Health..Life.Expectancy.  Lower Confidence Interval  \\\n",
      "0                         NaN                        NaN   \n",
      "1                         NaN                        NaN   \n",
      "2                         NaN                        NaN   \n",
      "3                         NaN                        NaN   \n",
      "4                         NaN                        NaN   \n",
      "5                         NaN                        NaN   \n",
      "6                         NaN                        NaN   \n",
      "7                         NaN                        NaN   \n",
      "8                         NaN                        NaN   \n",
      "9                         NaN                        NaN   \n",
      "10                        NaN                        NaN   \n",
      "11                        NaN                        NaN   \n",
      "12                        NaN                        NaN   \n",
      "13                        NaN                        NaN   \n",
      "14                        NaN                        NaN   \n",
      "15                        NaN                        NaN   \n",
      "16                        NaN                        NaN   \n",
      "17                        NaN                        NaN   \n",
      "18                        NaN                        NaN   \n",
      "19                        NaN                        NaN   \n",
      "20                        NaN                        NaN   \n",
      "21                        NaN                        NaN   \n",
      "22                        NaN                        NaN   \n",
      "23                        NaN                        NaN   \n",
      "24                        NaN                        NaN   \n",
      "25                        NaN                        NaN   \n",
      "26                        NaN                        NaN   \n",
      "27                        NaN                        NaN   \n",
      "28                        NaN                        NaN   \n",
      "29                        NaN                        NaN   \n",
      "..                        ...                        ...   \n",
      "125                  0.191407                        NaN   \n",
      "126                  0.169366                        NaN   \n",
      "127                  0.048642                        NaN   \n",
      "128                  0.429783                        NaN   \n",
      "129                  0.290921                        NaN   \n",
      "130                  0.295638                        NaN   \n",
      "131                  0.575904                        NaN   \n",
      "132                  0.217633                        NaN   \n",
      "133                  0.215844                        NaN   \n",
      "134                  0.268505                        NaN   \n",
      "135                  0.315090                        NaN   \n",
      "136                  0.041135                        NaN   \n",
      "137                  0.196764                        NaN   \n",
      "138                  0.000000                        NaN   \n",
      "139                  0.049869                        NaN   \n",
      "140                  0.180747                        NaN   \n",
      "141                  0.341756                        NaN   \n",
      "142                  0.209930                        NaN   \n",
      "143                  0.375223                        NaN   \n",
      "144                  0.277321                        NaN   \n",
      "145                  0.310081                        NaN   \n",
      "146                  0.163486                        NaN   \n",
      "147                  0.229918                        NaN   \n",
      "148                  0.194129                        NaN   \n",
      "149                  0.247106                        NaN   \n",
      "150                  0.326425                        NaN   \n",
      "151                  0.500533                        NaN   \n",
      "152                  0.364509                        NaN   \n",
      "153                  0.151611                        NaN   \n",
      "154                  0.018773                        NaN   \n",
      "\n",
      "                              Region  Standard Error  \\\n",
      "0                     Western Europe         0.03411   \n",
      "1                     Western Europe         0.04884   \n",
      "2                     Western Europe         0.03328   \n",
      "3                     Western Europe         0.03880   \n",
      "4                      North America         0.03553   \n",
      "5                     Western Europe         0.03140   \n",
      "6                     Western Europe         0.02799   \n",
      "7                     Western Europe         0.03157   \n",
      "8          Australia and New Zealand         0.03371   \n",
      "9          Australia and New Zealand         0.04083   \n",
      "10   Middle East and Northern Africa         0.03470   \n",
      "11       Latin America and Caribbean         0.04454   \n",
      "12                    Western Europe         0.03751   \n",
      "13       Latin America and Caribbean         0.04176   \n",
      "14                     North America         0.03839   \n",
      "15       Latin America and Caribbean         0.04076   \n",
      "16                    Western Europe         0.03499   \n",
      "17                    Western Europe         0.03676   \n",
      "18                    Western Europe         0.03595   \n",
      "19   Middle East and Northern Africa         0.03729   \n",
      "20                    Western Europe         0.01866   \n",
      "21   Middle East and Northern Africa         0.05335   \n",
      "22       Latin America and Caribbean         0.06476   \n",
      "23                 Southeastern Asia         0.03780   \n",
      "24       Latin America and Caribbean         0.04910   \n",
      "25                    Western Europe         0.01848   \n",
      "26       Latin America and Caribbean         0.05800   \n",
      "27   Middle East and Northern Africa         0.06257   \n",
      "28                    Western Europe         0.03512   \n",
      "29       Latin America and Caribbean         0.04612   \n",
      "..                               ...             ...   \n",
      "125                              NaN             NaN   \n",
      "126                              NaN             NaN   \n",
      "127                              NaN             NaN   \n",
      "128                              NaN             NaN   \n",
      "129                              NaN             NaN   \n",
      "130                              NaN             NaN   \n",
      "131                              NaN             NaN   \n",
      "132                              NaN             NaN   \n",
      "133                              NaN             NaN   \n",
      "134                              NaN             NaN   \n",
      "135                              NaN             NaN   \n",
      "136                              NaN             NaN   \n",
      "137                              NaN             NaN   \n",
      "138                              NaN             NaN   \n",
      "139                              NaN             NaN   \n",
      "140                              NaN             NaN   \n",
      "141                              NaN             NaN   \n",
      "142                              NaN             NaN   \n",
      "143                              NaN             NaN   \n",
      "144                              NaN             NaN   \n",
      "145                              NaN             NaN   \n",
      "146                              NaN             NaN   \n",
      "147                              NaN             NaN   \n",
      "148                              NaN             NaN   \n",
      "149                              NaN             NaN   \n",
      "150                              NaN             NaN   \n",
      "151                              NaN             NaN   \n",
      "152                              NaN             NaN   \n",
      "153                              NaN             NaN   \n",
      "154                              NaN             NaN   \n",
      "\n",
      "    Trust (Government Corruption)  Trust..Government.Corruption.  \\\n",
      "0                         0.41978                            NaN   \n",
      "1                         0.14145                            NaN   \n",
      "2                         0.48357                            NaN   \n",
      "3                         0.36503                            NaN   \n",
      "4                         0.32957                            NaN   \n",
      "5                         0.41372                            NaN   \n",
      "6                         0.31814                            NaN   \n",
      "7                         0.43844                            NaN   \n",
      "8                         0.42922                            NaN   \n",
      "9                         0.35637                            NaN   \n",
      "10                        0.07785                            NaN   \n",
      "11                        0.10583                            NaN   \n",
      "12                        0.18676                            NaN   \n",
      "13                        0.21312                            NaN   \n",
      "14                        0.15890                            NaN   \n",
      "15                        0.17521                            NaN   \n",
      "16                        0.37798                            NaN   \n",
      "17                        0.28703                            NaN   \n",
      "18                        0.22540                            NaN   \n",
      "19                        0.38583                            NaN   \n",
      "20                        0.32067                            NaN   \n",
      "21                        0.32524                            NaN   \n",
      "22                        0.11069                            NaN   \n",
      "23                        0.49210                            NaN   \n",
      "24                        0.09270                            NaN   \n",
      "25                        0.21843                            NaN   \n",
      "26                        0.12869                            NaN   \n",
      "27                        0.52208                            NaN   \n",
      "28                        0.20646                            NaN   \n",
      "29                        0.08484                            NaN   \n",
      "..                            ...                            ...   \n",
      "125                           NaN                       0.060241   \n",
      "126                           NaN                       0.104970   \n",
      "127                           NaN                       0.130062   \n",
      "128                           NaN                       0.068106   \n",
      "129                           NaN                       0.089848   \n",
      "130                           NaN                       0.025336   \n",
      "131                           NaN                       0.023029   \n",
      "132                           NaN                       0.057070   \n",
      "133                           NaN                       0.120328   \n",
      "134                           NaN                       0.138573   \n",
      "135                           NaN                       0.072712   \n",
      "136                           NaN                       0.053582   \n",
      "137                           NaN                       0.095375   \n",
      "138                           NaN                       0.119095   \n",
      "139                           NaN                       0.069720   \n",
      "140                           NaN                       0.061158   \n",
      "141                           NaN                       0.098583   \n",
      "142                           NaN                       0.060929   \n",
      "143                           NaN                       0.067232   \n",
      "144                           NaN                       0.099872   \n",
      "145                           NaN                       0.056767   \n",
      "146                           NaN                       0.116794   \n",
      "147                           NaN                       0.038948   \n",
      "148                           NaN                       0.110938   \n",
      "149                           NaN                       0.095665   \n",
      "150                           NaN                       0.455220   \n",
      "151                           NaN                       0.151347   \n",
      "152                           NaN                       0.066035   \n",
      "153                           NaN                       0.084148   \n",
      "154                           NaN                       0.056565   \n",
      "\n",
      "     Upper Confidence Interval  Whisker.high  Whisker.low  Year  \n",
      "0                          NaN           NaN          NaN  2015  \n",
      "1                          NaN           NaN          NaN  2015  \n",
      "2                          NaN           NaN          NaN  2015  \n",
      "3                          NaN           NaN          NaN  2015  \n",
      "4                          NaN           NaN          NaN  2015  \n",
      "5                          NaN           NaN          NaN  2015  \n",
      "6                          NaN           NaN          NaN  2015  \n",
      "7                          NaN           NaN          NaN  2015  \n",
      "8                          NaN           NaN          NaN  2015  \n",
      "9                          NaN           NaN          NaN  2015  \n",
      "10                         NaN           NaN          NaN  2015  \n",
      "11                         NaN           NaN          NaN  2015  \n",
      "12                         NaN           NaN          NaN  2015  \n",
      "13                         NaN           NaN          NaN  2015  \n",
      "14                         NaN           NaN          NaN  2015  \n",
      "15                         NaN           NaN          NaN  2015  \n",
      "16                         NaN           NaN          NaN  2015  \n",
      "17                         NaN           NaN          NaN  2015  \n",
      "18                         NaN           NaN          NaN  2015  \n",
      "19                         NaN           NaN          NaN  2015  \n",
      "20                         NaN           NaN          NaN  2015  \n",
      "21                         NaN           NaN          NaN  2015  \n",
      "22                         NaN           NaN          NaN  2015  \n",
      "23                         NaN           NaN          NaN  2015  \n",
      "24                         NaN           NaN          NaN  2015  \n",
      "25                         NaN           NaN          NaN  2015  \n",
      "26                         NaN           NaN          NaN  2015  \n",
      "27                         NaN           NaN          NaN  2015  \n",
      "28                         NaN           NaN          NaN  2015  \n",
      "29                         NaN           NaN          NaN  2015  \n",
      "..                         ...           ...          ...   ...  \n",
      "125                        NaN      4.357811     4.202190  2017  \n",
      "126                        NaN      4.269671     4.110329  2017  \n",
      "127                        NaN      4.275183     4.084817  2017  \n",
      "128                        NaN      4.278518     4.057483  2017  \n",
      "129                        NaN      4.345747     3.932253  2017  \n",
      "130                        NaN      4.222707     4.017293  2017  \n",
      "131                        NaN      4.185410     4.006590  2017  \n",
      "132                        NaN      4.195800     3.966200  2017  \n",
      "133                        NaN      4.124059     3.939941  2017  \n",
      "134                        NaN      4.111947     3.944053  2017  \n",
      "135                        NaN      4.077479     3.862521  2017  \n",
      "136                        NaN      4.034712     3.837289  2017  \n",
      "137                        NaN      3.978700     3.771300  2017  \n",
      "138                        NaN      4.044344     3.571656  2017  \n",
      "139                        NaN      3.951642     3.638358  2017  \n",
      "140                        NaN      3.873661     3.714338  2017  \n",
      "141                        NaN      3.874123     3.657877  2017  \n",
      "142                        NaN      3.745784     3.568217  2017  \n",
      "143                        NaN      3.714319     3.573681  2017  \n",
      "144                        NaN      3.734715     3.471285  2017  \n",
      "145                        NaN      3.692750     3.493250  2017  \n",
      "146                        NaN      3.725539     3.456462  2017  \n",
      "147                        NaN      3.653756     3.412244  2017  \n",
      "148                        NaN      3.584428     3.429572  2017  \n",
      "149                        NaN      3.594038     3.395962  2017  \n",
      "150                        NaN      3.543030     3.398970  2017  \n",
      "151                        NaN      3.663669     3.260331  2017  \n",
      "152                        NaN      3.461430     3.236570  2017  \n",
      "153                        NaN      3.074690     2.735310  2017  \n",
      "154                        NaN      2.864884     2.521116  2017  \n",
      "\n",
      "[470 rows x 22 columns]\n"
     ]
    },
    {
     "name": "stderr",
     "output_type": "stream",
     "text": [
      "/home/lumenetix/anaconda3/lib/python3.7/site-packages/ipykernel_launcher.py:3: FutureWarning: Sorting because non-concatenation axis is not aligned. A future version\n",
      "of pandas will change to not sort by default.\n",
      "\n",
      "To accept the future behavior, pass 'sort=False'.\n",
      "\n",
      "To retain the current behavior and silence the warning, pass 'sort=True'.\n",
      "\n",
      "  This is separate from the ipykernel package so we can avoid doing imports until\n"
     ]
    }
   ],
   "source": [
    "# We need to combine happiness2015, happiness2016, and \n",
    "# happiness2017, so that we can group the result by the Year column.\n",
    "combined = pd.concat([happiness2015, happiness2016, happiness2017])\n",
    "print(combined)\n",
    "\n"
   ]
  },
  {
   "cell_type": "code",
   "execution_count": 39,
   "metadata": {},
   "outputs": [],
   "source": [
    "pivot_table_combined = combined.pivot_table(index='Year', values='Happiness Score', aggfunc=np.mean)"
   ]
  },
  {
   "cell_type": "code",
   "execution_count": 40,
   "metadata": {},
   "outputs": [
    {
     "data": {
      "text/plain": [
       "<matplotlib.axes._subplots.AxesSubplot at 0x7fd023fc9eb8>"
      ]
     },
     "execution_count": 40,
     "metadata": {},
     "output_type": "execute_result"
    },
    {
     "data": {
      "image/png": "[encoded data removed]",
      "text/plain": [
       "<Figure size 432x288 with 1 Axes>"
      ]
     },
     "metadata": {
      "needs_background": "light"
     },
     "output_type": "display_data"
    }
   ],
   "source": [
    "pivot_table_combined.plot(kind='barh', title='Mean Happiness Scores by Year', xlim=(0,10))"
   ]
  },
  {
   "cell_type": "code",
   "execution_count": null,
   "metadata": {},
   "outputs": [],
   "source": []
  }
 ],
 "metadata": {
  "kernelspec": {
   "display_name": "Python 3",
   "language": "python",
   "name": "python3"
  },
  "language_info": {
   "codemirror_mode": {
    "name": "ipython",
    "version": 3
   },
   "file_extension": ".py",
   "mimetype": "text/x-python",
   "name": "python",
   "nbconvert_exporter": "python",
   "pygments_lexer": "ipython3",
   "version": "3.7.3"
  }
 },
 "nbformat": 4,
 "nbformat_minor": 2
}
