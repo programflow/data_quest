{
 "cells": [
  {
   "cell_type": "markdown",
   "metadata": {},
   "source": [
    "# Working With Missing And Duplicate Data"
   ]
  },
  {
   "cell_type": "markdown",
   "metadata": {},
   "source": [
    "## 1. Introduction"
   ]
  },
  {
   "cell_type": "markdown",
   "metadata": {},
   "source": [
    "We're gonna learn how to handle missing  and duplicate data\n",
    "\n",
    "missing/duplicate data might appear while combining, reindexing, and reshaping data\n",
    "might exist bc of user input error or data storage/conversion issues\n",
    "might also be used to indicate that data is unavailable\n",
    "\n",
    "We've learned to handle missing data by\n",
    "1. removing rows with missing values\n",
    "2. removing columns with missing vals\n",
    "3. fill missing vals with other vals\n",
    "4. leave missing vals as is\n",
    "\n",
    "We'll go into more detail of these options\n",
    "\n",
    "data set: World Happinesss report 2015/2016/2017 (updated countries)"
   ]
  },
  {
   "cell_type": "code",
   "execution_count": 13,
   "metadata": {},
   "outputs": [],
   "source": [
    "# import\n",
    "import numpy as np\n",
    "import pandas as pd\n",
    "import matplotlib.pyplot as plt\n",
    "\n",
    "# open files into dataframes\n",
    "happiness2015 = pd.read_csv('wh_2015.csv')\n",
    "happiness2016 = pd.read_csv('wh_2016.csv')\n",
    "happiness2017 = pd.read_csv('wh_2017.csv')\n",
    "\n",
    "# Gather info about the dataframes\n",
    "shape_2015 = happiness2015.shape\n",
    "shape_2016 = happiness2016.shape\n",
    "shape_2017 = happiness2017.shape"
   ]
  },
  {
   "cell_type": "markdown",
   "metadata": {},
   "source": [
    "## 2. Identifying Missing Values"
   ]
  },
  {
   "cell_type": "markdown",
   "metadata": {},
   "source": [
    "each data set contains the same number of rows\n",
    "\n",
    "Each likely contains missing values because they were updated to countain same countries\n",
    "missing values reps as Nan or None\n",
    "may indicate data is missing instead of Null\n",
    "\n",
    "use Series.isnull() to identify rows with missing values\n",
    "might be easier to get summary df.isnull().sum()"
   ]
  },
  {
   "cell_type": "code",
   "execution_count": 14,
   "metadata": {},
   "outputs": [],
   "source": [
    "# We need to confirm number of missing values in happiness2016 and happiness2017\n",
    "missing_2016 = happiness2016.isnull().sum()\n",
    "missing_2017 = happiness2017.isnull().sum()\n"
   ]
  },
  {
   "cell_type": "code",
   "execution_count": 17,
   "metadata": {},
   "outputs": [
    {
     "data": {
      "text/plain": [
       "Country                          0\n",
       "Region                           7\n",
       "Happiness Rank                   7\n",
       "Happiness Score                  7\n",
       "Lower Confidence Interval        7\n",
       "Upper Confidence Interval        7\n",
       "Economy (GDP per Capita)         7\n",
       "Family                           7\n",
       "Health (Life Expectancy)         7\n",
       "Freedom                          7\n",
       "Trust (Government Corruption)    7\n",
       "Generosity                       7\n",
       "Dystopia Residual                7\n",
       "Year                             0\n",
       "dtype: int64"
      ]
     },
     "execution_count": 17,
     "metadata": {},
     "output_type": "execute_result"
    }
   ],
   "source": [
    "missing_2016"
   ]
  },
  {
   "cell_type": "code",
   "execution_count": 18,
   "metadata": {},
   "outputs": [
    {
     "data": {
      "text/plain": [
       "Country                          0\n",
       "Happiness.Rank                   9\n",
       "Happiness.Score                  9\n",
       "Whisker.high                     9\n",
       "Whisker.low                      9\n",
       "Economy..GDP.per.Capita.         9\n",
       "Family                           9\n",
       "Health..Life.Expectancy.         9\n",
       "Freedom                          9\n",
       "Generosity                       9\n",
       "Trust..Government.Corruption.    9\n",
       "Dystopia.Residual                9\n",
       "Year                             0\n",
       "dtype: int64"
      ]
     },
     "execution_count": 18,
     "metadata": {},
     "output_type": "execute_result"
    }
   ],
   "source": [
    "missing_2017"
   ]
  },
  {
   "cell_type": "markdown",
   "metadata": {},
   "source": [
    "## 3. Correcting Data Cleaning Errors that Result in Missing Value"
   ]
  },
  {
   "cell_type": "markdown",
   "metadata": {},
   "source": [
    "For all three data sets missing values exist in all columns except Country and Year\n",
    "Workflow for cleaning missing values\n",
    "1. Check for errors in data cleaning/tranformation\n",
    "2. use data from additional sources to fill missing values\n",
    "3. drop row/column\n",
    "4. fill missing values with reasonable estimates compute from the available data\n",
    "\n",
    "Recall, can use pd.concat to combine data sets\n"
   ]
  },
  {
   "cell_type": "code",
   "execution_count": 19,
   "metadata": {},
   "outputs": [
    {
     "name": "stderr",
     "output_type": "stream",
     "text": [
      "/home/lumenetix/anaconda3/lib/python3.7/site-packages/ipykernel_launcher.py:1: FutureWarning: Sorting because non-concatenation axis is not aligned. A future version\n",
      "of pandas will change to not sort by default.\n",
      "\n",
      "To accept the future behavior, pass 'sort=False'.\n",
      "\n",
      "To retain the current behavior and silence the warning, pass 'sort=True'.\n",
      "\n",
      "  \"\"\"Entry point for launching an IPython kernel.\n"
     ]
    },
    {
     "data": {
      "text/plain": [
       "Country                            0\n",
       "Dystopia Residual                177\n",
       "Dystopia.Residual                337\n",
       "Economy (GDP per Capita)         177\n",
       "Economy..GDP.per.Capita.         337\n",
       "Family                            22\n",
       "Freedom                           22\n",
       "Generosity                        22\n",
       "Happiness Rank                   177\n",
       "Happiness Score                  177\n",
       "Happiness.Rank                   337\n",
       "Happiness.Score                  337\n",
       "Health (Life Expectancy)         177\n",
       "Health..Life.Expectancy.         337\n",
       "Lower Confidence Interval        335\n",
       "Region                           177\n",
       "Standard Error                   334\n",
       "Trust (Government Corruption)    177\n",
       "Trust..Government.Corruption.    337\n",
       "Upper Confidence Interval        335\n",
       "Whisker.high                     337\n",
       "Whisker.low                      337\n",
       "Year                               0\n",
       "dtype: int64"
      ]
     },
     "execution_count": 19,
     "metadata": {},
     "output_type": "execute_result"
    }
   ],
   "source": [
    "combined = pd.concat([happiness2015, happiness2016, happiness2017], ignore_index=True)\n",
    "\n",
    "# Check for missing values in combined\n",
    "combined.isnull().sum()\n"
   ]
  },
  {
   "cell_type": "markdown",
   "metadata": {},
   "source": [
    "df has missing values and they follow a pattern.\n",
    "177 missing values or 337 missing values\n",
    "some column names only differe by punctuation => error combining data\n"
   ]
  },
  {
   "cell_type": "code",
   "execution_count": 22,
   "metadata": {},
   "outputs": [
    {
     "name": "stderr",
     "output_type": "stream",
     "text": [
      "/home/lumenetix/anaconda3/lib/python3.7/site-packages/ipykernel_launcher.py:7: FutureWarning: Sorting because non-concatenation axis is not aligned. A future version\n",
      "of pandas will change to not sort by default.\n",
      "\n",
      "To accept the future behavior, pass 'sort=False'.\n",
      "\n",
      "To retain the current behavior and silence the warning, pass 'sort=True'.\n",
      "\n",
      "  import sys\n"
     ]
    },
    {
     "data": {
      "text/plain": [
       "COUNTRY                          0\n",
       "DYSTOPIA RESIDUAL               22\n",
       "ECONOMY GDP PER CAPITA          22\n",
       "FAMILY                          22\n",
       "FREEDOM                         22\n",
       "GENEROSITY                      22\n",
       "HAPPINESS RANK                  22\n",
       "HAPPINESS SCORE                 22\n",
       "HEALTH LIFE EXPECTANCY          22\n",
       "LOWER CONFIDENCE INTERVAL      335\n",
       "REGION                         177\n",
       "STANDARD ERROR                 334\n",
       "TRUST GOVERNMENT CORRUPTION     22\n",
       "UPPER CONFIDENCE INTERVAL      335\n",
       "WHISKER HIGH                   337\n",
       "WHISKER LOW                    337\n",
       "YEAR                             0\n",
       "dtype: int64"
      ]
     },
     "execution_count": 22,
     "metadata": {},
     "output_type": "execute_result"
    }
   ],
   "source": [
    "# now we clean the columns names\n",
    "# rename columns\n",
    "happiness2017.columns = happiness2017.columns.str.replace('.', ' ').str.replace('\\s+', ' ').str.strip().str.replace('(','').str.replace(')','').str.upper()\n",
    "happiness2016.columns = happiness2016.columns.str.replace('.', ' ').str.replace('\\s+', ' ').str.strip().str.replace('(','').str.replace(')','').str.upper()\n",
    "happiness2015.columns = happiness2015.columns.str.replace('.', ' ').str.replace('\\s+', ' ').str.strip().str.replace('(','').str.replace(')','').str.upper()\n",
    "\n",
    "combined = pd.concat([happiness2015, happiness2016, happiness2017], ignore_index=True)\n",
    "\n",
    "missing = combined.isnull().sum()\n",
    "missing"
   ]
  },
  {
   "cell_type": "markdown",
   "metadata": {},
   "source": [
    "## 4. Visualizing Missing Data"
   ]
  },
  {
   "cell_type": "code",
   "execution_count": 23,
   "metadata": {},
   "outputs": [
    {
     "data": {
      "text/plain": [
       "<matplotlib.axes._subplots.AxesSubplot at 0x7f08b4613ef0>"
      ]
     },
     "execution_count": 23,
     "metadata": {},
     "output_type": "execute_result"
    },
    {
     "data": {
      "image/png": "[encoded data removed]",
      "text/plain": [
       "<Figure size 432x288 with 1 Axes>"
      ]
     },
     "metadata": {
      "needs_background": "light"
     },
     "output_type": "display_data"
    }
   ],
   "source": [
    "# There are still values missing\n",
    "# can use heatmap to learn about missing values\n",
    "# we can use seaborn library for this.\n",
    "\n",
    "# reset index to 'YEAR'\n",
    "import seaborn as sns\n",
    "combined_updated = combined.set_index('YEAR')\n",
    "sns.heatmap(combined_updated.isnull(), cbar=False)\n"
   ]
  },
  {
   "cell_type": "code",
   "execution_count": null,
   "metadata": {},
   "outputs": [],
   "source": [
    "#we can observe that:\n",
    "# - no vals are missing in COUNTRY column\n",
    "# - some vals missing in all data set columns excetp COUNTRY\n",
    "# - some cols have data populated for 1 year\n",
    "# - REGION data might be missing for 2017\n",
    "\n",
    "#Let's check REGION"
   ]
  },
  {
   "cell_type": "code",
   "execution_count": 24,
   "metadata": {},
   "outputs": [],
   "source": [
    "regions_2017 = combined[combined['YEAR']==2017]['REGION']\n",
    "missing = regions_2017.isnull().sum()"
   ]
  },
  {
   "cell_type": "markdown",
   "metadata": {},
   "source": [
    "## 5. Using Data from additional sources to fill in missing values"
   ]
  },
  {
   "cell_type": "code",
   "execution_count": 25,
   "metadata": {},
   "outputs": [
    {
     "ename": "NameError",
     "evalue": "name 'regions' is not defined",
     "output_type": "error",
     "traceback": [
      "\u001b[0;31m---------------------------------------------------------------------------\u001b[0m",
      "\u001b[0;31mNameError\u001b[0m                                 Traceback (most recent call last)",
      "\u001b[0;32m<ipython-input-25-bdda1dc7b2d4>\u001b[0m in \u001b[0;36m<module>\u001b[0;34m\u001b[0m\n\u001b[1;32m     11\u001b[0m \u001b[0;34m\u001b[0m\u001b[0m\n\u001b[1;32m     12\u001b[0m \u001b[0;34m\u001b[0m\u001b[0m\n\u001b[0;32m---> 13\u001b[0;31m \u001b[0mcombined\u001b[0m \u001b[0;34m=\u001b[0m \u001b[0mpd\u001b[0m\u001b[0;34m.\u001b[0m\u001b[0mmerge\u001b[0m\u001b[0;34m(\u001b[0m\u001b[0mleft\u001b[0m\u001b[0;34m=\u001b[0m\u001b[0mcombined\u001b[0m\u001b[0;34m,\u001b[0m \u001b[0mright\u001b[0m\u001b[0;34m=\u001b[0m\u001b[0mregions\u001b[0m\u001b[0;34m,\u001b[0m \u001b[0mon\u001b[0m\u001b[0;34m=\u001b[0m\u001b[0;34m'COUNTRY'\u001b[0m\u001b[0;34m,\u001b[0m \u001b[0mhow\u001b[0m\u001b[0;34m=\u001b[0m\u001b[0;34m'left'\u001b[0m\u001b[0;34m)\u001b[0m\u001b[0;34m\u001b[0m\u001b[0;34m\u001b[0m\u001b[0m\n\u001b[0m\u001b[1;32m     14\u001b[0m \u001b[0mcombined\u001b[0m \u001b[0;34m=\u001b[0m \u001b[0mcombined\u001b[0m\u001b[0;34m.\u001b[0m\u001b[0mdrop\u001b[0m\u001b[0;34m(\u001b[0m\u001b[0;34m'REGION_x'\u001b[0m\u001b[0;34m,\u001b[0m \u001b[0maxis\u001b[0m\u001b[0;34m=\u001b[0m\u001b[0;36m1\u001b[0m\u001b[0;34m)\u001b[0m\u001b[0;34m\u001b[0m\u001b[0;34m\u001b[0m\u001b[0m\n\u001b[1;32m     15\u001b[0m \u001b[0mmissing\u001b[0m \u001b[0;34m=\u001b[0m \u001b[0mcombined\u001b[0m\u001b[0;34m.\u001b[0m\u001b[0misnull\u001b[0m\u001b[0;34m(\u001b[0m\u001b[0;34m)\u001b[0m\u001b[0;34m.\u001b[0m\u001b[0msum\u001b[0m\u001b[0;34m(\u001b[0m\u001b[0;34m)\u001b[0m\u001b[0;34m\u001b[0m\u001b[0;34m\u001b[0m\u001b[0m\n",
      "\u001b[0;31mNameError\u001b[0m: name 'regions' is not defined"
     ]
    }
   ],
   "source": [
    "# REGION is missing from 2017 data\n",
    "#  We need region to analyze data\n",
    "\n",
    "# we can use region from other years because region is a fixed val that corresponds to\n",
    "# a country\n",
    "\n",
    "# strategy:\n",
    "# 1. creat df containing all countries and corresponding regions from the 3 data sets\n",
    "# 2. use pd.merg() to assigne REGION in df to corresponding country in combined\n",
    "# 3. result will have 2 region columns. REGION_x and REGION_y. drop REGION_x\n",
    "\n",
    "\n",
    "combined = pd.merge(left=combined, right=regions, on='COUNTRY', how='left')\n",
    "combined = combined.drop('REGION_x', axis=1)\n",
    "missing = combined.isnull().sum()\n"
   ]
  },
  {
   "cell_type": "markdown",
   "metadata": {},
   "source": [
    "## 6. Identifying Duplicates Values"
   ]
  },
  {
   "cell_type": "markdown",
   "metadata": {},
   "source": [
    "## 7. Correctin Duplicates Values"
   ]
  },
  {
   "cell_type": "markdown",
   "metadata": {},
   "source": [
    "## 8. Handle Missing Values by Dropping Columns"
   ]
  },
  {
   "cell_type": "markdown",
   "metadata": {},
   "source": [
    "## 9. Handle missing Value by Dropping Columns (Cont.)"
   ]
  },
  {
   "cell_type": "markdown",
   "metadata": {},
   "source": [
    "## 10. Analyzing Missing Data"
   ]
  },
  {
   "cell_type": "markdown",
   "metadata": {},
   "source": [
    "## 11. Handling Missing Values with Imputation"
   ]
  },
  {
   "cell_type": "markdown",
   "metadata": {},
   "source": [
    "## 12. Dropping Rows"
   ]
  },
  {
   "cell_type": "code",
   "execution_count": null,
   "metadata": {},
   "outputs": [],
   "source": []
  }
 ],
 "metadata": {
  "kernelspec": {
   "display_name": "Python 3",
   "language": "python",
   "name": "python3"
  },
  "language_info": {
   "codemirror_mode": {
    "name": "ipython",
    "version": 3
   },
   "file_extension": ".py",
   "mimetype": "text/x-python",
   "name": "python",
   "nbconvert_exporter": "python",
   "pygments_lexer": "ipython3",
   "version": "3.7.3"
  }
 },
 "nbformat": 4,
 "nbformat_minor": 2
}
