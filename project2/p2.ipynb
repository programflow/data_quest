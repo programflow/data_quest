{
 "cells": [
  {
   "cell_type": "markdown",
   "metadata": {},
   "source": [
    "# Guided Project: Exploring Hacker News Posts"
   ]
  },
  {
   "cell_type": "markdown",
   "metadata": {},
   "source": [
    "## PART 1 of 8: Introduction"
   ]
  },
  {
   "cell_type": "code",
   "execution_count": 1,
   "metadata": {},
   "outputs": [
    {
     "name": "stdout",
     "output_type": "stream",
     "text": [
      "[['id', 'title', 'url', 'num_points', 'num_comments', 'author', 'created_at'], ['12579008', 'You have two days to comment if you want stem cells to be classified as your own', 'http://www.regulations.gov/document?D=FDA-2015-D-3719-0018', '1', '0', 'altstar', '9/26/2016 3:26'], ['12579005', 'SQLAR  the SQLite Archiver', 'https://www.sqlite.org/sqlar/doc/trunk/README.md', '1', '0', 'blacksqr', '9/26/2016 3:24'], ['12578997', 'What if we just printed a flatscreen television on the side of our boxes?', 'https://medium.com/vanmoof/our-secrets-out-f21c1f03fdc8#.ietxmez43', '1', '0', 'pavel_lishin', '9/26/2016 3:19'], ['12578989', 'algorithmic music', 'http://cacm.acm.org/magazines/2011/7/109891-algorithmic-composition/fulltext', '1', '0', 'poindontcare', '9/26/2016 3:16'], ['12578979', 'How the Data Vault Enables the Next-Gen Data Warehouse and Data Lake', 'https://www.talend.com/blog/2016/05/12/talend-and-Â\\x93the-data-vaultÂ\\x94', '1', '0', 'markgainor1', '9/26/2016 3:14']]\n"
     ]
    }
   ],
   "source": [
    "from csv import reader\n",
    "\n",
    "open_file = open(\"/home/lumenetix/Documents/python/data_quest/project2/HN_posts_year_to_Sep_26_2016.csv\")\n",
    "read_file = reader(open_file)\n",
    "hn = list(read_file)\n",
    "print(hn[:6])\n"
   ]
  },
  {
   "cell_type": "markdown",
   "metadata": {},
   "source": [
    "Below are descriptions of the columns:\n",
    "\n",
    "id: The unique identifier from Hacker News for the post\n",
    "\n",
    "title: The title of the post\n",
    "\n",
    "url: The URL that the posts links to, if it the post has a URL\n",
    "\n",
    "num_points: The number of points the post acquired, calculated as the total number of upvotes minus the total number of downvotes\n",
    "\n",
    "num_comments: The number of comments that were made on the post\n",
    "\n",
    "author: The username of the person who submitted the post\n",
    "\n",
    "created_at: The date and time at which the post was submitted"
   ]
  },
  {
   "cell_type": "markdown",
   "metadata": {},
   "source": [
    "### What we are interested in:\n",
    "\n",
    "are posts titles that begin with Ask HN or Show HN\n",
    "\n",
    "### Like:\n",
    "\n",
    "Ask HN: How to improve my personal website?\n",
    "\n",
    "Ask HN: Am I the only one outraged by Twitter shutting down share counts?\n",
    "\n",
    "Ask HN: Aby recent changes to CSS that broke mobile?"
   ]
  },
  {
   "cell_type": "markdown",
   "metadata": {},
   "source": [
    "### or:\n",
    "\n",
    "Show HN: Wio Link  ESP8266 Based Web of Things Hardware Development Platform'\n",
    "\n",
    "Show HN: Something pointless I made\n",
    "\n",
    "Show HN: \n",
    "    \n"
   ]
  },
  {
   "cell_type": "markdown",
   "metadata": {},
   "source": [
    "### We want to compare thse 2 types of posts to determine:\n",
    "\n",
    "A. Do Ask HN or Show HN receive more comments on average?\n",
    "\n",
    "B. Do posts created at a certain time receive more comments on average?"
   ]
  },
  {
   "cell_type": "markdown",
   "metadata": {},
   "source": [
    "## Part 2 of 8: Removing Headers from a List of Lists"
   ]
  },
  {
   "cell_type": "markdown",
   "metadata": {},
   "source": [
    "We want to analyze the data but in order to do so efficiently we should remove the column header row."
   ]
  },
  {
   "cell_type": "code",
   "execution_count": 2,
   "metadata": {
    "scrolled": false
   },
   "outputs": [
    {
     "name": "stdout",
     "output_type": "stream",
     "text": [
      "['id', 'title', 'url', 'num_points', 'num_comments', 'author', 'created_at']\n",
      "\n",
      "\n",
      "['12579008', 'You have two days to comment if you want stem cells to be classified as your own', 'http://www.regulations.gov/document?D=FDA-2015-D-3719-0018', '1', '0', 'altstar', '9/26/2016 3:26']\n"
     ]
    }
   ],
   "source": [
    "headers =hn[0]\n",
    "hn = hn[1:]\n",
    "\n",
    "print(headers)\n",
    "print(\"\\n\")\n",
    "print(hn[0])"
   ]
  },
  {
   "cell_type": "markdown",
   "metadata": {},
   "source": [
    "## Part 3 of 8: Extracting Ask HN and Show HN Posts"
   ]
  },
  {
   "cell_type": "markdown",
   "metadata": {},
   "source": [
    "We can start filtering data. We need to create new lists containing only dat wtih what we are interested in, i.e. Ask HN and Show HN.\n"
   ]
  },
  {
   "cell_type": "code",
   "execution_count": 3,
   "metadata": {},
   "outputs": [
    {
     "name": "stdout",
     "output_type": "stream",
     "text": [
      "9139\n",
      "[['12578908', 'Ask HN: What TLD do you use for local development?', '', '4', '7', 'Sevrene', '9/26/2016 2:53'], ['12578522', 'Ask HN: How do you pass on your work when you die?', '', '6', '3', 'PascLeRasc', '9/26/2016 1:17'], ['12577908', 'Ask HN: How a DNS problem can be limited to a geographic region?', '', '1', '0', 'kuon', '9/25/2016 22:57'], ['12577870', 'Ask HN: Why join a fund when you can be an angel?', '', '1', '3', 'anthony_james', '9/25/2016 22:48'], ['12577647', 'Ask HN: Someone uses stock trading as passive income?', '', '5', '2', '00taffe', '9/25/2016 21:50']]\n",
      "\n",
      "\n",
      "10158\n",
      "\n",
      "\n",
      "273822\n"
     ]
    }
   ],
   "source": [
    "ask_posts = []\n",
    "show_posts = []\n",
    "other_posts = []\n",
    "\n",
    "#we first make all titles lower case for consistency\n",
    "# then we check what each title starts with\n",
    "# then we categorize and place each in the appropriate list\n",
    "for row in hn:\n",
    "    title = row[1].lower()\n",
    "    if title.startswith('ask hn'):\n",
    "        ask_posts.append(row)\n",
    "    elif title.startswith('show hn'):\n",
    "        show_posts.append(row)\n",
    "    else:\n",
    "        other_posts.append(row)\n",
    "        \n",
    "print(len(ask_posts))\n",
    "print(ask_posts[:5])\n",
    "print('\\n')\n",
    "print(len(show_posts))\n",
    "print('\\n')\n",
    "print(len(other_posts))\n",
    "        "
   ]
  },
  {
   "cell_type": "markdown",
   "metadata": {},
   "source": [
    "## Part 4 of 8: Calculating the Average Number of Comments for Ask HN and Show HN Posts"
   ]
  },
  {
   "cell_type": "markdown",
   "metadata": {},
   "source": [
    "We want to determine if asks posts or show posts receive more comments on average."
   ]
  },
  {
   "cell_type": "code",
   "execution_count": 4,
   "metadata": {},
   "outputs": [
    {
     "name": "stdout",
     "output_type": "stream",
     "text": [
      "10.393478498741656\n",
      "4.886099625910612\n",
      "5.507378872831044\n"
     ]
    }
   ],
   "source": [
    "total_ask_comments = 0\n",
    "ask_counter = 0\n",
    "for row in ask_posts:\n",
    "    num_comments = int(row[4])\n",
    "    total_ask_comments += num_comments\n",
    "    ask_counter += 1\n",
    "    \n",
    "avg_ask_comments = total_ask_comments / ask_counter\n",
    "print(avg_ask_comments)\n",
    "\n",
    "\n",
    "total_show_comments = 0\n",
    "show_counter = 0\n",
    "for row in show_posts:\n",
    "    num_comments = int(row[4])\n",
    "    total_show_comments += num_comments\n",
    "    show_counter += 1\n",
    "    \n",
    "avg_show_comments = total_show_comments / show_counter\n",
    "print(avg_show_comments)\n",
    "\n",
    "print(avg_ask_comments - avg_show_comments)"
   ]
  },
  {
   "cell_type": "markdown",
   "metadata": {},
   "source": [
    "The ask_posts receive more comments on by about 8 comments. Althought there are about 1000 more show posts than ask posts. Since the majority of comments come from ask posts we are going to focus on analyzing those."
   ]
  },
  {
   "cell_type": "markdown",
   "metadata": {},
   "source": [
    "## Part 5 of 8: Finding the amount of Ask Posts and Comments by Hour Created"
   ]
  },
  {
   "cell_type": "code",
   "execution_count": 5,
   "metadata": {},
   "outputs": [
    {
     "name": "stdout",
     "output_type": "stream",
     "text": [
      "{2: 269, 1: 282, 22: 383, 21: 518, 19: 552, 17: 587, 15: 646, 14: 513, 13: 444, 11: 312, 10: 282, 9: 222, 7: 226, 3: 271, 23: 343, 20: 510, 16: 579, 8: 257, 0: 301, 18: 614, 12: 342, 4: 243, 6: 234, 5: 209}\n",
      "{2: 2996, 1: 2089, 22: 3372, 21: 4500, 19: 3954, 17: 5547, 15: 18525, 14: 4972, 13: 7245, 11: 2797, 10: 3013, 9: 1477, 7: 1585, 3: 2154, 23: 2297, 20: 4462, 16: 4466, 8: 2362, 0: 2277, 18: 4877, 12: 4234, 4: 2360, 6: 1587, 5: 1838}\n"
     ]
    }
   ],
   "source": [
    "import datetime as dt\n",
    "\n",
    "# we'll calculate for ask posts first\n",
    "ask_result_list = []\n",
    "\n",
    "for row in ask_posts:\n",
    "    sub_list= []\n",
    "    created_at = row[6]\n",
    "    num_comments = int(row[4])\n",
    "    sub_list.append(created_at)\n",
    "    sub_list.append(num_comments)\n",
    "    ask_result_list.append(sub_list)\n",
    "    \n",
    "ask_counts_by_hour = {}\n",
    "ask_comments_by_hour = {}\n",
    "\n",
    "for row in ask_result_list:\n",
    "    date = row[0]\n",
    "    comment =row[1]\n",
    "    format_string = \"%m/%d/%Y %H:%M\"\n",
    "    dt_object = dt.datetime.strptime(date, format_string)\n",
    "    dt_hour = dt_object.hour\n",
    "    if dt_hour not in ask_counts_by_hour:\n",
    "        ask_counts_by_hour[dt_hour] = 1\n",
    "        ask_comments_by_hour[dt_hour] = comment\n",
    "    else:\n",
    "        ask_counts_by_hour[dt_hour] += 1\n",
    "        ask_comments_by_hour[dt_hour] += comment\n",
    "        \n",
    "print(ask_counts_by_hour)\n",
    "print(ask_comments_by_hour)\n",
    "\n",
    "#we'll repeat the process for show posts\n"
   ]
  },
  {
   "cell_type": "markdown",
   "metadata": {},
   "source": [
    "Now we have two dictionaries:\n",
    "\n",
    "counts_by_hour: contains the number of ask posts created during each hour of the day.\n",
    "\n",
    "comments_by_hour: contains the corresponding number of comments ask posts created at each hour received."
   ]
  },
  {
   "cell_type": "markdown",
   "metadata": {},
   "source": [
    "## Part 6 of 8: Calculating the Average Number of Comments for Ask HN Posts by Hour"
   ]
  },
  {
   "cell_type": "markdown",
   "metadata": {},
   "source": [
    "We want to use these dictionaries to calculate the average number of comments for posts created during each hour of the day.\n",
    "\n",
    "We want to do this by initializing an empty list.\n",
    "Then we want to iterate it over the keys of the respective dictionaries and appended them to the empty list where the first element is the key and the second element is the value of comments by hour divided by the value of counts by hour."
   ]
  },
  {
   "cell_type": "code",
   "execution_count": 7,
   "metadata": {},
   "outputs": [
    {
     "name": "stdout",
     "output_type": "stream",
     "text": [
      "[[2, 11.137546468401487], [1, 7.407801418439717], [22, 8.804177545691905], [21, 8.687258687258687], [19, 7.163043478260869], [17, 9.449744463373083], [15, 28.676470588235293], [14, 9.692007797270955], [13, 16.31756756756757], [11, 8.96474358974359], [10, 10.684397163120567], [9, 6.653153153153153], [7, 7.013274336283186], [3, 7.948339483394834], [23, 6.696793002915452], [20, 8.749019607843136], [16, 7.713298791018998], [8, 9.190661478599221], [0, 7.5647840531561465], [18, 7.94299674267101], [12, 12.380116959064328], [4, 9.7119341563786], [6, 6.782051282051282], [5, 8.794258373205741]]\n"
     ]
    }
   ],
   "source": [
    "ac_avg_by_hour =[]\n",
    "\n",
    "for hour in ask_comments_by_hour:\n",
    "    ac_avg_by_hour.append([hour, ask_comments_by_hour[hour]/ask_counts_by_hour[hour]])\n",
    "    \n",
    "print(ac_avg_by_hour)"
   ]
  },
  {
   "cell_type": "markdown",
   "metadata": {},
   "source": [
    "## Part 7 of 8: Sorting and Printing Values from a List of Lists"
   ]
  },
  {
   "cell_type": "markdown",
   "metadata": {},
   "source": [
    "Now that we have the average number of comments for posts created during each hour of the day.\n",
    "\n",
    "Now we need to make it easier to identify the hours with the highest value by sorting the lists and printing the five highest values."
   ]
  },
  {
   "cell_type": "code",
   "execution_count": 9,
   "metadata": {},
   "outputs": [
    {
     "name": "stdout",
     "output_type": "stream",
     "text": [
      "[[11.137546468401487, 2], [7.407801418439717, 1], [8.804177545691905, 22], [8.687258687258687, 21], [7.163043478260869, 19], [9.449744463373083, 17], [28.676470588235293, 15], [9.692007797270955, 14], [16.31756756756757, 13], [8.96474358974359, 11], [10.684397163120567, 10], [6.653153153153153, 9], [7.013274336283186, 7], [7.948339483394834, 3], [6.696793002915452, 23], [8.749019607843136, 20], [7.713298791018998, 16], [9.190661478599221, 8], [7.5647840531561465, 0], [7.94299674267101, 18], [12.380116959064328, 12], [9.7119341563786, 4], [6.782051282051282, 6], [8.794258373205741, 5]]\n",
      "15:00: 28.68 average comments per post\n",
      "13:00: 16.32 average comments per post\n",
      "12:00: 12.38 average comments per post\n",
      "2:00: 11.14 average comments per post\n",
      "10:00: 10.68 average comments per post\n",
      "4:00: 9.71 average comments per post\n",
      "14:00: 9.69 average comments per post\n",
      "17:00: 9.45 average comments per post\n",
      "8:00: 9.19 average comments per post\n",
      "11:00: 8.96 average comments per post\n",
      "22:00: 8.80 average comments per post\n",
      "5:00: 8.79 average comments per post\n",
      "20:00: 8.75 average comments per post\n",
      "21:00: 8.69 average comments per post\n",
      "3:00: 7.95 average comments per post\n",
      "18:00: 7.94 average comments per post\n",
      "16:00: 7.71 average comments per post\n",
      "0:00: 7.56 average comments per post\n",
      "1:00: 7.41 average comments per post\n",
      "19:00: 7.16 average comments per post\n",
      "7:00: 7.01 average comments per post\n",
      "6:00: 6.78 average comments per post\n",
      "23:00: 6.70 average comments per post\n",
      "9:00: 6.65 average comments per post\n"
     ]
    }
   ],
   "source": [
    "swap_avg_by_hour = []\n",
    "for row in ac_avg_by_hour:\n",
    "    swap_avg_by_hour.append([row[1],row[0]])\n",
    "    \n",
    "print(swap_avg_by_hour)\n",
    "\n",
    "sorted_swap = sorted(swap_avg_by_hour, reverse = True)\n",
    "\n",
    "\n",
    "\n",
    "for row in sorted_swap:\n",
    "    avg_format = \"{}:00: {:.2f} average comments per post\"\n",
    "    print(avg_format.format(row[1], row[0]))"
   ]
  },
  {
   "cell_type": "markdown",
   "metadata": {},
   "source": [
    "A post should be created around 3pm in order to maximize the chances of getting posts."
   ]
  },
  {
   "cell_type": "markdown",
   "metadata": {},
   "source": [
    "## Part 8 of 8: Extra Steps"
   ]
  },
  {
   "cell_type": "markdown",
   "metadata": {},
   "source": [
    "Now we want to try to determine other important details:\n",
    "1. Determine if show or ask posts receive more points on average.\n",
    "2. Determine if posts created at a certain time are more likely to receive more points.\n",
    "3. Compare your results to the average number of comments and points other posts receive."
   ]
  },
  {
   "cell_type": "markdown",
   "metadata": {},
   "source": [
    "Now we're going to try to determine  where show or ask posts receive more points on average."
   ]
  },
  {
   "cell_type": "code",
   "execution_count": 10,
   "metadata": {},
   "outputs": [
    {
     "name": "stdout",
     "output_type": "stream",
     "text": [
      "11.31174089068826\n",
      "14.843571569206537\n"
     ]
    }
   ],
   "source": [
    "total_ask_points = 0\n",
    "\n",
    "for row in ask_posts:\n",
    "    num_points = int(row[3])\n",
    "    total_ask_points += num_points\n",
    "    \n",
    "avg_ask_points = total_ask_points / ask_counter\n",
    "\n",
    "total_show_points = 0\n",
    "\n",
    "for row in show_posts:\n",
    "    num_points = int(row[3])\n",
    "    total_show_points += num_points\n",
    "    \n",
    "avg_show_points = total_show_points / show_counter\n",
    "\n",
    "print(avg_ask_points)\n",
    "print(avg_show_points)"
   ]
  },
  {
   "cell_type": "markdown",
   "metadata": {},
   "source": [
    "It's seems like on average show posts get more upvote points on average but not by much."
   ]
  },
  {
   "cell_type": "markdown",
   "metadata": {},
   "source": [
    "Now I'll determine if posts created at a certain time are more likely to receive more points. We'll start by calculating for ask posts."
   ]
  },
  {
   "cell_type": "code",
   "execution_count": 11,
   "metadata": {},
   "outputs": [
    {
     "name": "stdout",
     "output_type": "stream",
     "text": [
      "{2: 269, 1: 282, 22: 383, 21: 518, 19: 552, 17: 587, 15: 646, 14: 513, 13: 444, 11: 312, 10: 282, 9: 222, 7: 226, 3: 271, 23: 343, 20: 510, 16: 579, 8: 257, 0: 301, 18: 614, 12: 342, 4: 243, 6: 234, 5: 209}\n",
      "{2: 2944, 1: 2662, 22: 3601, 21: 5042, 19: 4782, 17: 7155, 15: 13978, 14: 5390, 13: 7962, 11: 2856, 10: 3789, 9: 1763, 7: 2040, 3: 2539, 23: 2616, 20: 4491, 16: 5970, 8: 2744, 0: 2835, 18: 6850, 12: 4643, 4: 2650, 6: 2030, 5: 2046}\n"
     ]
    }
   ],
   "source": [
    "ap_rlist = []\n",
    "\n",
    "for row in ask_posts:\n",
    "    sub_list= []\n",
    "    created_at = row[6]\n",
    "    num_comments = int(row[3])\n",
    "    sub_list.append(created_at)\n",
    "    sub_list.append(num_comments)\n",
    "    ap_rlist.append(sub_list)\n",
    "    \n",
    "ask_counts_by_hour = {}\n",
    "ask_points_by_hour = {}\n",
    "\n",
    "for row in ap_rlist:\n",
    "    date = row[0]\n",
    "    comment =row[1]\n",
    "    format_string = \"%m/%d/%Y %H:%M\"\n",
    "    dt_object = dt.datetime.strptime(date, format_string)\n",
    "    dt_hour = dt_object.hour\n",
    "    if dt_hour not in ask_counts_by_hour:\n",
    "        ask_counts_by_hour[dt_hour] = 1\n",
    "        ask_points_by_hour[dt_hour] = comment\n",
    "    else:\n",
    "        ask_counts_by_hour[dt_hour] += 1\n",
    "        ask_points_by_hour[dt_hour] += comment\n",
    "        \n",
    "print(ask_counts_by_hour)\n",
    "print(ask_points_by_hour)\n"
   ]
  },
  {
   "cell_type": "markdown",
   "metadata": {},
   "source": [
    "Now we want to calculate these dictionaries for show posts."
   ]
  },
  {
   "cell_type": "code",
   "execution_count": 12,
   "metadata": {},
   "outputs": [
    {
     "name": "stdout",
     "output_type": "stream",
     "text": [
      "{0: 276, 23: 319, 20: 525, 19: 556, 18: 656, 16: 801, 14: 696, 10: 323, 9: 302, 8: 316, 6: 192, 3: 206, 21: 430, 17: 761, 15: 836, 11: 402, 7: 236, 4: 194, 13: 610, 12: 516, 1: 247, 22: 377, 2: 209, 5: 172}\n",
      "{0: 4291, 23: 5060, 20: 6948, 19: 8928, 18: 9935, 16: 11487, 14: 10503, 10: 4303, 9: 3762, 8: 4640, 6: 3071, 3: 2168, 21: 5990, 17: 10563, 15: 11657, 11: 7742, 7: 3303, 4: 2707, 13: 10381, 12: 10787, 1: 2931, 22: 5026, 2: 2764, 5: 1834}\n"
     ]
    }
   ],
   "source": [
    "sp_rlist = []\n",
    "\n",
    "for row in show_posts:\n",
    "    sub_list= []\n",
    "    created_at = row[6]\n",
    "    num_comments = int(row[3])\n",
    "    sub_list.append(created_at)\n",
    "    sub_list.append(num_comments)\n",
    "    sp_rlist.append(sub_list)\n",
    "    \n",
    "show_counts_by_hour = {}\n",
    "show_points_by_hour = {}\n",
    "\n",
    "for row in sp_rlist:\n",
    "    date = row[0]\n",
    "    comment =row[1]\n",
    "    format_string = \"%m/%d/%Y %H:%M\"\n",
    "    dt_object = dt.datetime.strptime(date, format_string)\n",
    "    dt_hour = dt_object.hour\n",
    "    if dt_hour not in show_counts_by_hour:\n",
    "        show_counts_by_hour[dt_hour] = 1\n",
    "        show_points_by_hour[dt_hour] = comment\n",
    "    else:\n",
    "        show_counts_by_hour[dt_hour] += 1\n",
    "        show_points_by_hour[dt_hour] += comment\n",
    "        \n",
    "print(show_counts_by_hour)\n",
    "print(show_points_by_hour)\n"
   ]
  }
 ],
 "metadata": {
  "kernelspec": {
   "display_name": "Python 3",
   "language": "python",
   "name": "python3"
  },
  "language_info": {
   "codemirror_mode": {
    "name": "ipython",
    "version": 3
   },
   "file_extension": ".py",
   "mimetype": "text/x-python",
   "name": "python",
   "nbconvert_exporter": "python",
   "pygments_lexer": "ipython3",
   "version": "3.7.3"
  }
 },
 "nbformat": 4,
 "nbformat_minor": 2
}
