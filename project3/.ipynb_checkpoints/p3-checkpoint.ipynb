{
 "cells": [
  {
   "cell_type": "markdown",
   "metadata": {},
   "source": [
    "# 1. Introduction\n",
    "\n",
    "In this guided project I'll be working with a dataset of used cars from eBay Kleinanzeigen. This a classifeds section of the German eBay website.\n",
    "\n",
    "The dataset that I'll be working with was originally scraped and uploaded to Kaggle. There are a few modifications from the original dataset th was uploaded to Kaggle:\n",
    "\n",
    "    . 50,000 data points from the full dataset were sampled to ensure the code runs more quickly.\n",
    "\n",
    "    . The dataset is dirtied a bit to more closely resemble what you would expect from a scraped dataset.\n",
    "\n"
   ]
  },
  {
   "cell_type": "markdown",
   "metadata": {},
   "source": [
    "### Data Dictionary provided with data is as follows:\n",
    "\n",
    ". dateCrawled - When this ad was first crawled. All field-values are taken form this date.\n",
    "\n",
    ". name - Name of the car.\n",
    "\n",
    ". seller - whether the seller is private or a dealer.\n",
    "\n",
    ". offerType - The type of listing\n",
    "\n",
    ". price - The price on the ad to sell the car.\n",
    "\n",
    ". abtest - Whether the listing is included in an A/B test.\n",
    "\n",
    ". vehicleType - The vehicle Type.\n",
    "\n",
    ". yearOfRegistration - The year in which the car was first registered.\n",
    "\n",
    ". gearbox - The transmission type.\n",
    "\n",
    ". powerPS - The power of the car in PS.\n",
    "\n",
    ". model - The car model name.\n",
    "\n",
    ". kilometer - How many kilometers the car has driven.\n",
    "\n",
    ". monthOfRegistration - The month in which the car was first \n",
    "registered.\n",
    "\n",
    ". fuelType - What tyep of fuel the car uses.\n",
    "\n",
    ". brand - The rand of the car.\n",
    "\n",
    ". notRepairedDamage - If the car has a damage which is not yet repaired.\n",
    "\n",
    ". dateCreated - The date on which the eBay listing was created.\n",
    "\n",
    ". nrOfPictures - The number of picture in the ad.\n",
    "\n",
    ". postalCode - the postal code for the location of the vehicle.\n",
    "\n",
    ". lastSeenOnline - When the crawler saw this ad last online."
   ]
  },
  {
   "cell_type": "markdown",
   "metadata": {},
   "source": [
    "### Goals of project:\n",
    "\n",
    "-> Clean data and analyze the included used car listings.\n",
    "\n",
    "-> Become familiar with some of the unique benefits jupyter notebook provides for pandas\n"
   ]
  },
  {
   "cell_type": "code",
   "execution_count": null,
   "metadata": {},
   "outputs": [],
   "source": [
    "import pandas as pd"
   ]
  }
 ],
 "metadata": {
  "kernelspec": {
   "display_name": "Python 3",
   "language": "python",
   "name": "python3"
  },
  "language_info": {
   "codemirror_mode": {
    "name": "ipython",
    "version": 3
   },
   "file_extension": ".py",
   "mimetype": "text/x-python",
   "name": "python",
   "nbconvert_exporter": "python",
   "pygments_lexer": "ipython3",
   "version": "3.7.3"
  }
 },
 "nbformat": 4,
 "nbformat_minor": 2
}
